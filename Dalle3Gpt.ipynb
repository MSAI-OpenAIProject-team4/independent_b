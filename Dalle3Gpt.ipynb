{
 "cells": [
  {
   "cell_type": "code",
   "execution_count": null,
   "metadata": {
    "vscode": {
     "languageId": "plaintext"
    }
   },
   "outputs": [],
   "source": [
    "AZURE_OAI_ENDPOINT = \"\n",
    "AZURE_OAI_KEY = \"\n",
    "AZURE_OAI_DEPLOYMENT = \"\"\n",
    "\n",
    "GPT_ENDPOINT = \"\"\n",
    "GPT_API_KEY = \"\"\n"
   ]
  },
  {
   "cell_type": "code",
   "execution_count": null,
   "metadata": {
    "vscode": {
     "languageId": "plaintext"
    }
   },
   "outputs": [],
   "source": [
    "#gpt + dalle 합치기\n",
    "\n",
    "import requests\n",
    "from openai import AzureOpenAI\n",
    "import os\n",
    "from PIL import Image\n",
    "import json\n",
    "\n",
    "# 설정 정보 (환경변수 또는 직접 입력)\n",
    "azure_oai_endpoint = AZURE_OAI_ENDPOINT\n",
    "azure_oai_key = AZURE_OAI_KEY\n",
    "azure_oai_deployment = AZURE_OAI_DEPLOYMENT\n",
    "\n",
    "# GPT로부터 그림 프롬프트 받기\n",
    "def requests_gpt(user_text):\n",
    "    endpoint = GPT_ENDPOINT\n",
    "    headers = {\n",
    "        \"Content-Type\": \"application/json\",\n",
    "        \"api-key\": GPT_API_KEY\n",
    "    }\n",
    "    payload = {\n",
    "        \"messages\": [\n",
    "            {\n",
    "                \"role\": \"user\",\n",
    "                \"content\": [\n",
    "                    {\n",
    "                        \"type\": \"text\",\n",
    "                        \"text\": user_text.strip()\n",
    "                    }            \n",
    "                ]\n",
    "            }\n",
    "        ],\n",
    "        \"temperature\": 0.7,\n",
    "        \"top_p\": 0.95,\n",
    "        \"max_tokens\": 800\n",
    "    }\n",
    "\n",
    "    response = requests.post(endpoint, headers=headers, json=payload)\n",
    "    if response.status_code == 200:\n",
    "        response_json = response.json()\n",
    "        content_text = response_json['choices'][0]['message']['content']\n",
    "        return content_text\n",
    "    else:\n",
    "        return \"GPT 요청 실패\"\n",
    "\n",
    "# Azure OpenAI 클라이언트 설정\n",
    "client = AzureOpenAI(\n",
    "    api_version=\"2024-02-01\",\n",
    "    api_key=AZURE_OAI_KEY,\n",
    "    azure_endpoint=AZURE_OAI_ENDPOINT\n",
    ")\n",
    "\n",
    "# 사용자 입력\n",
    "user_text = input(\"그려줬으면 하는 내용을 입력하세요 (예: '봄날 벚꽃이 흩날리는 공원'): \")\n",
    "if user_text.lower() == 'quit':\n",
    "    exit()\n",
    "\n",
    "# GPT로부터 그림 프롬프트 생성\n",
    "gpt_prompt = requests_gpt(user_text)\n",
    "print(\"GPT가 생성한 이미지 설명:\", gpt_prompt)\n",
    "\n",
    "# 이미지 생성 요청\n",
    "result = client.images.generate(\n",
    "    model=AZURE_OAI_DEPLOYMENT,\n",
    "    prompt=gpt_prompt,\n",
    "    n=1\n",
    ")\n",
    "\n",
    "json_response = json.loads(result.model_dump_json())\n",
    "\n",
    "# 이미지 저장 경로 설정\n",
    "image_dir = os.path.join(os.curdir, 'images')\n",
    "if not os.path.isdir(image_dir):\n",
    "    os.mkdir(image_dir)\n",
    "\n",
    "image_path = os.path.join(image_dir, 'generated_image.png')\n",
    "\n",
    "# 이미지 다운로드 및 저장\n",
    "image_url = json_response[\"data\"][0][\"url\"]\n",
    "generated_image = requests.get(image_url).content\n",
    "with open(image_path, \"wb\") as image_file:\n",
    "    image_file.write(generated_image)\n",
    "\n",
    "# 이미지 보기\n",
    "image = Image.open(image_path)\n",
    "image.show()\n"
   ]
  }
 ],
 "metadata": {
  "language_info": {
   "name": "python"
  }
 },
 "nbformat": 4,
 "nbformat_minor": 2
}
